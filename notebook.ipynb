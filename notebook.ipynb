{
 "cells": [
  {
   "cell_type": "markdown",
   "id": "07b90905-d615-4c46-95e3-6d2623d3af79",
   "metadata": {},
   "source": [
    "# Analisis Data - Air Quality Dataset\n",
    "+ Nama: Nazwa Eka Hervy\n",
    "+ Email: nazwaa.eka20@gmail.com\n",
    "+ ID Dicoding: nazwahervy"
   ]
  },
  {
   "cell_type": "markdown",
   "id": "97fb0836-dc6f-4507-8625-38155860bc15",
   "metadata": {},
   "source": [
    "### Pertanyaan Bisnis\n",
    "1. Bagaimana tren tahunan konsentrasi PM2.5 di setiap stasiun pemantauan?\n",
    "2. Bagaimana perubahan harian kecepatan angin di setiap stasiun pemantauan dari tahun 2013 hingga 2017, dan bagaimana kecepatan angin berhubungan dengan faktor cuaca lainnya?\n",
    "3. Seberapa besar variasi harian kecepatan angin di tiap stasiun selama periode 2013 hingga 2017, dan bagaimana kecepatan angin berkorelasi dengan indikator cuaca lainnya?"
   ]
  },
  {
   "cell_type": "code",
   "execution_count": 1,
   "id": "c9a7d63d-543f-4ad8-9672-3b2f0d6e7b3e",
   "metadata": {},
   "outputs": [],
   "source": [
    "#import seluruh library\n",
    "import numpy as np\n",
    "import pandas as pd\n",
    "import matplotlib.pyplot as plt\n",
    "import seaborn as sns"
   ]
  },
  {
   "cell_type": "markdown",
   "id": "d9a2e43a-0276-4d75-b8df-b4591e35520b",
   "metadata": {},
   "source": [
    "## Data Wrangling"
   ]
  },
  {
   "cell_type": "markdown",
   "id": "53a0ca1a-6122-4576-9a4a-b6241b263bfe",
   "metadata": {},
   "source": [
    "### Gathering Data"
   ]
  },
  {
   "cell_type": "markdown",
   "id": "2c0b727c-6579-42d7-ac60-622ed2dd37af",
   "metadata": {},
   "source": [
    "#### Memuat 12 Tabel Data"
   ]
  },
  {
   "cell_type": "code",
   "execution_count": 2,
   "id": "c494ba52-c9f9-4b02-b4d7-b165a6709928",
   "metadata": {},
   "outputs": [
    {
     "data": {
      "text/html": [
       "<div>\n",
       "<style scoped>\n",
       "    .dataframe tbody tr th:only-of-type {\n",
       "        vertical-align: middle;\n",
       "    }\n",
       "\n",
       "    .dataframe tbody tr th {\n",
       "        vertical-align: top;\n",
       "    }\n",
       "\n",
       "    .dataframe thead th {\n",
       "        text-align: right;\n",
       "    }\n",
       "</style>\n",
       "<table border=\"1\" class=\"dataframe\">\n",
       "  <thead>\n",
       "    <tr style=\"text-align: right;\">\n",
       "      <th></th>\n",
       "      <th>No</th>\n",
       "      <th>year</th>\n",
       "      <th>month</th>\n",
       "      <th>day</th>\n",
       "      <th>hour</th>\n",
       "      <th>PM2.5</th>\n",
       "      <th>PM10</th>\n",
       "      <th>SO2</th>\n",
       "      <th>NO2</th>\n",
       "      <th>CO</th>\n",
       "      <th>O3</th>\n",
       "      <th>TEMP</th>\n",
       "      <th>PRES</th>\n",
       "      <th>DEWP</th>\n",
       "      <th>RAIN</th>\n",
       "      <th>wd</th>\n",
       "      <th>WSPM</th>\n",
       "      <th>station</th>\n",
       "    </tr>\n",
       "  </thead>\n",
       "  <tbody>\n",
       "    <tr>\n",
       "      <th>0</th>\n",
       "      <td>1</td>\n",
       "      <td>2013</td>\n",
       "      <td>3</td>\n",
       "      <td>1</td>\n",
       "      <td>0</td>\n",
       "      <td>4.0</td>\n",
       "      <td>4.0</td>\n",
       "      <td>4.0</td>\n",
       "      <td>7.0</td>\n",
       "      <td>300.0</td>\n",
       "      <td>77.0</td>\n",
       "      <td>-0.7</td>\n",
       "      <td>1023.0</td>\n",
       "      <td>-18.8</td>\n",
       "      <td>0.0</td>\n",
       "      <td>NNW</td>\n",
       "      <td>4.4</td>\n",
       "      <td>Aotizhongxin</td>\n",
       "    </tr>\n",
       "    <tr>\n",
       "      <th>1</th>\n",
       "      <td>2</td>\n",
       "      <td>2013</td>\n",
       "      <td>3</td>\n",
       "      <td>1</td>\n",
       "      <td>1</td>\n",
       "      <td>8.0</td>\n",
       "      <td>8.0</td>\n",
       "      <td>4.0</td>\n",
       "      <td>7.0</td>\n",
       "      <td>300.0</td>\n",
       "      <td>77.0</td>\n",
       "      <td>-1.1</td>\n",
       "      <td>1023.2</td>\n",
       "      <td>-18.2</td>\n",
       "      <td>0.0</td>\n",
       "      <td>N</td>\n",
       "      <td>4.7</td>\n",
       "      <td>Aotizhongxin</td>\n",
       "    </tr>\n",
       "    <tr>\n",
       "      <th>2</th>\n",
       "      <td>3</td>\n",
       "      <td>2013</td>\n",
       "      <td>3</td>\n",
       "      <td>1</td>\n",
       "      <td>2</td>\n",
       "      <td>7.0</td>\n",
       "      <td>7.0</td>\n",
       "      <td>5.0</td>\n",
       "      <td>10.0</td>\n",
       "      <td>300.0</td>\n",
       "      <td>73.0</td>\n",
       "      <td>-1.1</td>\n",
       "      <td>1023.5</td>\n",
       "      <td>-18.2</td>\n",
       "      <td>0.0</td>\n",
       "      <td>NNW</td>\n",
       "      <td>5.6</td>\n",
       "      <td>Aotizhongxin</td>\n",
       "    </tr>\n",
       "    <tr>\n",
       "      <th>3</th>\n",
       "      <td>4</td>\n",
       "      <td>2013</td>\n",
       "      <td>3</td>\n",
       "      <td>1</td>\n",
       "      <td>3</td>\n",
       "      <td>6.0</td>\n",
       "      <td>6.0</td>\n",
       "      <td>11.0</td>\n",
       "      <td>11.0</td>\n",
       "      <td>300.0</td>\n",
       "      <td>72.0</td>\n",
       "      <td>-1.4</td>\n",
       "      <td>1024.5</td>\n",
       "      <td>-19.4</td>\n",
       "      <td>0.0</td>\n",
       "      <td>NW</td>\n",
       "      <td>3.1</td>\n",
       "      <td>Aotizhongxin</td>\n",
       "    </tr>\n",
       "    <tr>\n",
       "      <th>4</th>\n",
       "      <td>5</td>\n",
       "      <td>2013</td>\n",
       "      <td>3</td>\n",
       "      <td>1</td>\n",
       "      <td>4</td>\n",
       "      <td>3.0</td>\n",
       "      <td>3.0</td>\n",
       "      <td>12.0</td>\n",
       "      <td>12.0</td>\n",
       "      <td>300.0</td>\n",
       "      <td>72.0</td>\n",
       "      <td>-2.0</td>\n",
       "      <td>1025.2</td>\n",
       "      <td>-19.5</td>\n",
       "      <td>0.0</td>\n",
       "      <td>N</td>\n",
       "      <td>2.0</td>\n",
       "      <td>Aotizhongxin</td>\n",
       "    </tr>\n",
       "  </tbody>\n",
       "</table>\n",
       "</div>"
      ],
      "text/plain": [
       "   No  year  month  day  hour  PM2.5  PM10   SO2   NO2     CO    O3  TEMP  \\\n",
       "0   1  2013      3    1     0    4.0   4.0   4.0   7.0  300.0  77.0  -0.7   \n",
       "1   2  2013      3    1     1    8.0   8.0   4.0   7.0  300.0  77.0  -1.1   \n",
       "2   3  2013      3    1     2    7.0   7.0   5.0  10.0  300.0  73.0  -1.1   \n",
       "3   4  2013      3    1     3    6.0   6.0  11.0  11.0  300.0  72.0  -1.4   \n",
       "4   5  2013      3    1     4    3.0   3.0  12.0  12.0  300.0  72.0  -2.0   \n",
       "\n",
       "     PRES  DEWP  RAIN   wd  WSPM       station  \n",
       "0  1023.0 -18.8   0.0  NNW   4.4  Aotizhongxin  \n",
       "1  1023.2 -18.2   0.0    N   4.7  Aotizhongxin  \n",
       "2  1023.5 -18.2   0.0  NNW   5.6  Aotizhongxin  \n",
       "3  1024.5 -19.4   0.0   NW   3.1  Aotizhongxin  \n",
       "4  1025.2 -19.5   0.0    N   2.0  Aotizhongxin  "
      ]
     },
     "execution_count": 2,
     "metadata": {},
     "output_type": "execute_result"
    }
   ],
   "source": [
    "aotizhongxin_df = pd.read_csv(\"https://raw.githubusercontent.com/marceloreis/HTI/refs/heads/master/PRSA_Data_20130301-20170228/PRSA_Data_Aotizhongxin_20130301-20170228.csv\")\n",
    "aotizhongxin_df.head()"
   ]
  },
  {
   "cell_type": "code",
   "execution_count": 3,
   "id": "c480cc3e-798b-4180-9d11-ff4470855b56",
   "metadata": {},
   "outputs": [
    {
     "data": {
      "text/html": [
       "<div>\n",
       "<style scoped>\n",
       "    .dataframe tbody tr th:only-of-type {\n",
       "        vertical-align: middle;\n",
       "    }\n",
       "\n",
       "    .dataframe tbody tr th {\n",
       "        vertical-align: top;\n",
       "    }\n",
       "\n",
       "    .dataframe thead th {\n",
       "        text-align: right;\n",
       "    }\n",
       "</style>\n",
       "<table border=\"1\" class=\"dataframe\">\n",
       "  <thead>\n",
       "    <tr style=\"text-align: right;\">\n",
       "      <th></th>\n",
       "      <th>No</th>\n",
       "      <th>year</th>\n",
       "      <th>month</th>\n",
       "      <th>day</th>\n",
       "      <th>hour</th>\n",
       "      <th>PM2.5</th>\n",
       "      <th>PM10</th>\n",
       "      <th>SO2</th>\n",
       "      <th>NO2</th>\n",
       "      <th>CO</th>\n",
       "      <th>O3</th>\n",
       "      <th>TEMP</th>\n",
       "      <th>PRES</th>\n",
       "      <th>DEWP</th>\n",
       "      <th>RAIN</th>\n",
       "      <th>wd</th>\n",
       "      <th>WSPM</th>\n",
       "      <th>station</th>\n",
       "    </tr>\n",
       "  </thead>\n",
       "  <tbody>\n",
       "    <tr>\n",
       "      <th>0</th>\n",
       "      <td>1</td>\n",
       "      <td>2013</td>\n",
       "      <td>3</td>\n",
       "      <td>1</td>\n",
       "      <td>0</td>\n",
       "      <td>3.0</td>\n",
       "      <td>6.0</td>\n",
       "      <td>13.0</td>\n",
       "      <td>7.0</td>\n",
       "      <td>300.0</td>\n",
       "      <td>85.0</td>\n",
       "      <td>-2.3</td>\n",
       "      <td>1020.8</td>\n",
       "      <td>-19.7</td>\n",
       "      <td>0.0</td>\n",
       "      <td>E</td>\n",
       "      <td>0.5</td>\n",
       "      <td>Changping</td>\n",
       "    </tr>\n",
       "    <tr>\n",
       "      <th>1</th>\n",
       "      <td>2</td>\n",
       "      <td>2013</td>\n",
       "      <td>3</td>\n",
       "      <td>1</td>\n",
       "      <td>1</td>\n",
       "      <td>3.0</td>\n",
       "      <td>3.0</td>\n",
       "      <td>6.0</td>\n",
       "      <td>6.0</td>\n",
       "      <td>300.0</td>\n",
       "      <td>85.0</td>\n",
       "      <td>-2.5</td>\n",
       "      <td>1021.3</td>\n",
       "      <td>-19.0</td>\n",
       "      <td>0.0</td>\n",
       "      <td>ENE</td>\n",
       "      <td>0.7</td>\n",
       "      <td>Changping</td>\n",
       "    </tr>\n",
       "    <tr>\n",
       "      <th>2</th>\n",
       "      <td>3</td>\n",
       "      <td>2013</td>\n",
       "      <td>3</td>\n",
       "      <td>1</td>\n",
       "      <td>2</td>\n",
       "      <td>3.0</td>\n",
       "      <td>3.0</td>\n",
       "      <td>22.0</td>\n",
       "      <td>13.0</td>\n",
       "      <td>400.0</td>\n",
       "      <td>74.0</td>\n",
       "      <td>-3.0</td>\n",
       "      <td>1021.3</td>\n",
       "      <td>-19.9</td>\n",
       "      <td>0.0</td>\n",
       "      <td>ENE</td>\n",
       "      <td>0.2</td>\n",
       "      <td>Changping</td>\n",
       "    </tr>\n",
       "    <tr>\n",
       "      <th>3</th>\n",
       "      <td>4</td>\n",
       "      <td>2013</td>\n",
       "      <td>3</td>\n",
       "      <td>1</td>\n",
       "      <td>3</td>\n",
       "      <td>3.0</td>\n",
       "      <td>6.0</td>\n",
       "      <td>12.0</td>\n",
       "      <td>8.0</td>\n",
       "      <td>300.0</td>\n",
       "      <td>81.0</td>\n",
       "      <td>-3.6</td>\n",
       "      <td>1021.8</td>\n",
       "      <td>-19.1</td>\n",
       "      <td>0.0</td>\n",
       "      <td>NNE</td>\n",
       "      <td>1.0</td>\n",
       "      <td>Changping</td>\n",
       "    </tr>\n",
       "    <tr>\n",
       "      <th>4</th>\n",
       "      <td>5</td>\n",
       "      <td>2013</td>\n",
       "      <td>3</td>\n",
       "      <td>1</td>\n",
       "      <td>4</td>\n",
       "      <td>3.0</td>\n",
       "      <td>3.0</td>\n",
       "      <td>14.0</td>\n",
       "      <td>8.0</td>\n",
       "      <td>300.0</td>\n",
       "      <td>81.0</td>\n",
       "      <td>-3.5</td>\n",
       "      <td>1022.3</td>\n",
       "      <td>-19.4</td>\n",
       "      <td>0.0</td>\n",
       "      <td>N</td>\n",
       "      <td>2.1</td>\n",
       "      <td>Changping</td>\n",
       "    </tr>\n",
       "  </tbody>\n",
       "</table>\n",
       "</div>"
      ],
      "text/plain": [
       "   No  year  month  day  hour  PM2.5  PM10   SO2   NO2     CO    O3  TEMP  \\\n",
       "0   1  2013      3    1     0    3.0   6.0  13.0   7.0  300.0  85.0  -2.3   \n",
       "1   2  2013      3    1     1    3.0   3.0   6.0   6.0  300.0  85.0  -2.5   \n",
       "2   3  2013      3    1     2    3.0   3.0  22.0  13.0  400.0  74.0  -3.0   \n",
       "3   4  2013      3    1     3    3.0   6.0  12.0   8.0  300.0  81.0  -3.6   \n",
       "4   5  2013      3    1     4    3.0   3.0  14.0   8.0  300.0  81.0  -3.5   \n",
       "\n",
       "     PRES  DEWP  RAIN   wd  WSPM    station  \n",
       "0  1020.8 -19.7   0.0    E   0.5  Changping  \n",
       "1  1021.3 -19.0   0.0  ENE   0.7  Changping  \n",
       "2  1021.3 -19.9   0.0  ENE   0.2  Changping  \n",
       "3  1021.8 -19.1   0.0  NNE   1.0  Changping  \n",
       "4  1022.3 -19.4   0.0    N   2.1  Changping  "
      ]
     },
     "execution_count": 3,
     "metadata": {},
     "output_type": "execute_result"
    }
   ],
   "source": [
    "changping_df = pd.read_csv(\"https://raw.githubusercontent.com/marceloreis/HTI/refs/heads/master/PRSA_Data_20130301-20170228/PRSA_Data_Changping_20130301-20170228.csv\")\n",
    "changping_df.head()"
   ]
  },
  {
   "cell_type": "code",
   "execution_count": 4,
   "id": "8c06de0c-e197-4abb-a803-ebf4b12c401e",
   "metadata": {},
   "outputs": [
    {
     "data": {
      "text/html": [
       "<div>\n",
       "<style scoped>\n",
       "    .dataframe tbody tr th:only-of-type {\n",
       "        vertical-align: middle;\n",
       "    }\n",
       "\n",
       "    .dataframe tbody tr th {\n",
       "        vertical-align: top;\n",
       "    }\n",
       "\n",
       "    .dataframe thead th {\n",
       "        text-align: right;\n",
       "    }\n",
       "</style>\n",
       "<table border=\"1\" class=\"dataframe\">\n",
       "  <thead>\n",
       "    <tr style=\"text-align: right;\">\n",
       "      <th></th>\n",
       "      <th>No</th>\n",
       "      <th>year</th>\n",
       "      <th>month</th>\n",
       "      <th>day</th>\n",
       "      <th>hour</th>\n",
       "      <th>PM2.5</th>\n",
       "      <th>PM10</th>\n",
       "      <th>SO2</th>\n",
       "      <th>NO2</th>\n",
       "      <th>CO</th>\n",
       "      <th>O3</th>\n",
       "      <th>TEMP</th>\n",
       "      <th>PRES</th>\n",
       "      <th>DEWP</th>\n",
       "      <th>RAIN</th>\n",
       "      <th>wd</th>\n",
       "      <th>WSPM</th>\n",
       "      <th>station</th>\n",
       "    </tr>\n",
       "  </thead>\n",
       "  <tbody>\n",
       "    <tr>\n",
       "      <th>0</th>\n",
       "      <td>1</td>\n",
       "      <td>2013</td>\n",
       "      <td>3</td>\n",
       "      <td>1</td>\n",
       "      <td>0</td>\n",
       "      <td>4.0</td>\n",
       "      <td>4.0</td>\n",
       "      <td>3.0</td>\n",
       "      <td>NaN</td>\n",
       "      <td>200.0</td>\n",
       "      <td>82.0</td>\n",
       "      <td>-2.3</td>\n",
       "      <td>1020.8</td>\n",
       "      <td>-19.7</td>\n",
       "      <td>0.0</td>\n",
       "      <td>E</td>\n",
       "      <td>0.5</td>\n",
       "      <td>Dingling</td>\n",
       "    </tr>\n",
       "    <tr>\n",
       "      <th>1</th>\n",
       "      <td>2</td>\n",
       "      <td>2013</td>\n",
       "      <td>3</td>\n",
       "      <td>1</td>\n",
       "      <td>1</td>\n",
       "      <td>7.0</td>\n",
       "      <td>7.0</td>\n",
       "      <td>3.0</td>\n",
       "      <td>NaN</td>\n",
       "      <td>200.0</td>\n",
       "      <td>80.0</td>\n",
       "      <td>-2.5</td>\n",
       "      <td>1021.3</td>\n",
       "      <td>-19.0</td>\n",
       "      <td>0.0</td>\n",
       "      <td>ENE</td>\n",
       "      <td>0.7</td>\n",
       "      <td>Dingling</td>\n",
       "    </tr>\n",
       "    <tr>\n",
       "      <th>2</th>\n",
       "      <td>3</td>\n",
       "      <td>2013</td>\n",
       "      <td>3</td>\n",
       "      <td>1</td>\n",
       "      <td>2</td>\n",
       "      <td>5.0</td>\n",
       "      <td>5.0</td>\n",
       "      <td>3.0</td>\n",
       "      <td>2.0</td>\n",
       "      <td>200.0</td>\n",
       "      <td>79.0</td>\n",
       "      <td>-3.0</td>\n",
       "      <td>1021.3</td>\n",
       "      <td>-19.9</td>\n",
       "      <td>0.0</td>\n",
       "      <td>ENE</td>\n",
       "      <td>0.2</td>\n",
       "      <td>Dingling</td>\n",
       "    </tr>\n",
       "    <tr>\n",
       "      <th>3</th>\n",
       "      <td>4</td>\n",
       "      <td>2013</td>\n",
       "      <td>3</td>\n",
       "      <td>1</td>\n",
       "      <td>3</td>\n",
       "      <td>6.0</td>\n",
       "      <td>6.0</td>\n",
       "      <td>3.0</td>\n",
       "      <td>NaN</td>\n",
       "      <td>200.0</td>\n",
       "      <td>79.0</td>\n",
       "      <td>-3.6</td>\n",
       "      <td>1021.8</td>\n",
       "      <td>-19.1</td>\n",
       "      <td>0.0</td>\n",
       "      <td>NNE</td>\n",
       "      <td>1.0</td>\n",
       "      <td>Dingling</td>\n",
       "    </tr>\n",
       "    <tr>\n",
       "      <th>4</th>\n",
       "      <td>5</td>\n",
       "      <td>2013</td>\n",
       "      <td>3</td>\n",
       "      <td>1</td>\n",
       "      <td>4</td>\n",
       "      <td>5.0</td>\n",
       "      <td>5.0</td>\n",
       "      <td>3.0</td>\n",
       "      <td>NaN</td>\n",
       "      <td>200.0</td>\n",
       "      <td>81.0</td>\n",
       "      <td>-3.5</td>\n",
       "      <td>1022.3</td>\n",
       "      <td>-19.4</td>\n",
       "      <td>0.0</td>\n",
       "      <td>N</td>\n",
       "      <td>2.1</td>\n",
       "      <td>Dingling</td>\n",
       "    </tr>\n",
       "  </tbody>\n",
       "</table>\n",
       "</div>"
      ],
      "text/plain": [
       "   No  year  month  day  hour  PM2.5  PM10  SO2  NO2     CO    O3  TEMP  \\\n",
       "0   1  2013      3    1     0    4.0   4.0  3.0  NaN  200.0  82.0  -2.3   \n",
       "1   2  2013      3    1     1    7.0   7.0  3.0  NaN  200.0  80.0  -2.5   \n",
       "2   3  2013      3    1     2    5.0   5.0  3.0  2.0  200.0  79.0  -3.0   \n",
       "3   4  2013      3    1     3    6.0   6.0  3.0  NaN  200.0  79.0  -3.6   \n",
       "4   5  2013      3    1     4    5.0   5.0  3.0  NaN  200.0  81.0  -3.5   \n",
       "\n",
       "     PRES  DEWP  RAIN   wd  WSPM   station  \n",
       "0  1020.8 -19.7   0.0    E   0.5  Dingling  \n",
       "1  1021.3 -19.0   0.0  ENE   0.7  Dingling  \n",
       "2  1021.3 -19.9   0.0  ENE   0.2  Dingling  \n",
       "3  1021.8 -19.1   0.0  NNE   1.0  Dingling  \n",
       "4  1022.3 -19.4   0.0    N   2.1  Dingling  "
      ]
     },
     "execution_count": 4,
     "metadata": {},
     "output_type": "execute_result"
    }
   ],
   "source": [
    "dingling_df = pd.read_csv(\"https://raw.githubusercontent.com/marceloreis/HTI/refs/heads/master/PRSA_Data_20130301-20170228/PRSA_Data_Dingling_20130301-20170228.csv\")\n",
    "dingling_df.head()"
   ]
  },
  {
   "cell_type": "code",
   "execution_count": 5,
   "id": "9d25b14d-6208-4752-b4c2-cb6de5a3179f",
   "metadata": {},
   "outputs": [
    {
     "data": {
      "text/html": [
       "<div>\n",
       "<style scoped>\n",
       "    .dataframe tbody tr th:only-of-type {\n",
       "        vertical-align: middle;\n",
       "    }\n",
       "\n",
       "    .dataframe tbody tr th {\n",
       "        vertical-align: top;\n",
       "    }\n",
       "\n",
       "    .dataframe thead th {\n",
       "        text-align: right;\n",
       "    }\n",
       "</style>\n",
       "<table border=\"1\" class=\"dataframe\">\n",
       "  <thead>\n",
       "    <tr style=\"text-align: right;\">\n",
       "      <th></th>\n",
       "      <th>No</th>\n",
       "      <th>year</th>\n",
       "      <th>month</th>\n",
       "      <th>day</th>\n",
       "      <th>hour</th>\n",
       "      <th>PM2.5</th>\n",
       "      <th>PM10</th>\n",
       "      <th>SO2</th>\n",
       "      <th>NO2</th>\n",
       "      <th>CO</th>\n",
       "      <th>O3</th>\n",
       "      <th>TEMP</th>\n",
       "      <th>PRES</th>\n",
       "      <th>DEWP</th>\n",
       "      <th>RAIN</th>\n",
       "      <th>wd</th>\n",
       "      <th>WSPM</th>\n",
       "      <th>station</th>\n",
       "    </tr>\n",
       "  </thead>\n",
       "  <tbody>\n",
       "    <tr>\n",
       "      <th>0</th>\n",
       "      <td>1</td>\n",
       "      <td>2013</td>\n",
       "      <td>3</td>\n",
       "      <td>1</td>\n",
       "      <td>0</td>\n",
       "      <td>9.0</td>\n",
       "      <td>9.0</td>\n",
       "      <td>3.0</td>\n",
       "      <td>17.0</td>\n",
       "      <td>300.0</td>\n",
       "      <td>89.0</td>\n",
       "      <td>-0.5</td>\n",
       "      <td>1024.5</td>\n",
       "      <td>-21.4</td>\n",
       "      <td>0.0</td>\n",
       "      <td>NNW</td>\n",
       "      <td>5.7</td>\n",
       "      <td>Dongsi</td>\n",
       "    </tr>\n",
       "    <tr>\n",
       "      <th>1</th>\n",
       "      <td>2</td>\n",
       "      <td>2013</td>\n",
       "      <td>3</td>\n",
       "      <td>1</td>\n",
       "      <td>1</td>\n",
       "      <td>4.0</td>\n",
       "      <td>4.0</td>\n",
       "      <td>3.0</td>\n",
       "      <td>16.0</td>\n",
       "      <td>300.0</td>\n",
       "      <td>88.0</td>\n",
       "      <td>-0.7</td>\n",
       "      <td>1025.1</td>\n",
       "      <td>-22.1</td>\n",
       "      <td>0.0</td>\n",
       "      <td>NW</td>\n",
       "      <td>3.9</td>\n",
       "      <td>Dongsi</td>\n",
       "    </tr>\n",
       "    <tr>\n",
       "      <th>2</th>\n",
       "      <td>3</td>\n",
       "      <td>2013</td>\n",
       "      <td>3</td>\n",
       "      <td>1</td>\n",
       "      <td>2</td>\n",
       "      <td>7.0</td>\n",
       "      <td>7.0</td>\n",
       "      <td>NaN</td>\n",
       "      <td>17.0</td>\n",
       "      <td>300.0</td>\n",
       "      <td>60.0</td>\n",
       "      <td>-1.2</td>\n",
       "      <td>1025.3</td>\n",
       "      <td>-24.6</td>\n",
       "      <td>0.0</td>\n",
       "      <td>NNW</td>\n",
       "      <td>5.3</td>\n",
       "      <td>Dongsi</td>\n",
       "    </tr>\n",
       "    <tr>\n",
       "      <th>3</th>\n",
       "      <td>4</td>\n",
       "      <td>2013</td>\n",
       "      <td>3</td>\n",
       "      <td>1</td>\n",
       "      <td>3</td>\n",
       "      <td>3.0</td>\n",
       "      <td>3.0</td>\n",
       "      <td>5.0</td>\n",
       "      <td>18.0</td>\n",
       "      <td>NaN</td>\n",
       "      <td>NaN</td>\n",
       "      <td>-1.4</td>\n",
       "      <td>1026.2</td>\n",
       "      <td>-25.5</td>\n",
       "      <td>0.0</td>\n",
       "      <td>N</td>\n",
       "      <td>4.9</td>\n",
       "      <td>Dongsi</td>\n",
       "    </tr>\n",
       "    <tr>\n",
       "      <th>4</th>\n",
       "      <td>5</td>\n",
       "      <td>2013</td>\n",
       "      <td>3</td>\n",
       "      <td>1</td>\n",
       "      <td>4</td>\n",
       "      <td>3.0</td>\n",
       "      <td>3.0</td>\n",
       "      <td>7.0</td>\n",
       "      <td>NaN</td>\n",
       "      <td>200.0</td>\n",
       "      <td>84.0</td>\n",
       "      <td>-1.9</td>\n",
       "      <td>1027.1</td>\n",
       "      <td>-24.5</td>\n",
       "      <td>0.0</td>\n",
       "      <td>NNW</td>\n",
       "      <td>3.2</td>\n",
       "      <td>Dongsi</td>\n",
       "    </tr>\n",
       "  </tbody>\n",
       "</table>\n",
       "</div>"
      ],
      "text/plain": [
       "   No  year  month  day  hour  PM2.5  PM10  SO2   NO2     CO    O3  TEMP  \\\n",
       "0   1  2013      3    1     0    9.0   9.0  3.0  17.0  300.0  89.0  -0.5   \n",
       "1   2  2013      3    1     1    4.0   4.0  3.0  16.0  300.0  88.0  -0.7   \n",
       "2   3  2013      3    1     2    7.0   7.0  NaN  17.0  300.0  60.0  -1.2   \n",
       "3   4  2013      3    1     3    3.0   3.0  5.0  18.0    NaN   NaN  -1.4   \n",
       "4   5  2013      3    1     4    3.0   3.0  7.0   NaN  200.0  84.0  -1.9   \n",
       "\n",
       "     PRES  DEWP  RAIN   wd  WSPM station  \n",
       "0  1024.5 -21.4   0.0  NNW   5.7  Dongsi  \n",
       "1  1025.1 -22.1   0.0   NW   3.9  Dongsi  \n",
       "2  1025.3 -24.6   0.0  NNW   5.3  Dongsi  \n",
       "3  1026.2 -25.5   0.0    N   4.9  Dongsi  \n",
       "4  1027.1 -24.5   0.0  NNW   3.2  Dongsi  "
      ]
     },
     "execution_count": 5,
     "metadata": {},
     "output_type": "execute_result"
    }
   ],
   "source": [
    "dongsi_df = pd.read_csv(\"https://raw.githubusercontent.com/marceloreis/HTI/refs/heads/master/PRSA_Data_20130301-20170228/PRSA_Data_Dongsi_20130301-20170228.csv\")\n",
    "dongsi_df.head()"
   ]
  },
  {
   "cell_type": "code",
   "execution_count": 6,
   "id": "c296a898-3e3e-48c8-b486-a9c2e615169e",
   "metadata": {},
   "outputs": [
    {
     "data": {
      "text/html": [
       "<div>\n",
       "<style scoped>\n",
       "    .dataframe tbody tr th:only-of-type {\n",
       "        vertical-align: middle;\n",
       "    }\n",
       "\n",
       "    .dataframe tbody tr th {\n",
       "        vertical-align: top;\n",
       "    }\n",
       "\n",
       "    .dataframe thead th {\n",
       "        text-align: right;\n",
       "    }\n",
       "</style>\n",
       "<table border=\"1\" class=\"dataframe\">\n",
       "  <thead>\n",
       "    <tr style=\"text-align: right;\">\n",
       "      <th></th>\n",
       "      <th>No</th>\n",
       "      <th>year</th>\n",
       "      <th>month</th>\n",
       "      <th>day</th>\n",
       "      <th>hour</th>\n",
       "      <th>PM2.5</th>\n",
       "      <th>PM10</th>\n",
       "      <th>SO2</th>\n",
       "      <th>NO2</th>\n",
       "      <th>CO</th>\n",
       "      <th>O3</th>\n",
       "      <th>TEMP</th>\n",
       "      <th>PRES</th>\n",
       "      <th>DEWP</th>\n",
       "      <th>RAIN</th>\n",
       "      <th>wd</th>\n",
       "      <th>WSPM</th>\n",
       "      <th>station</th>\n",
       "    </tr>\n",
       "  </thead>\n",
       "  <tbody>\n",
       "    <tr>\n",
       "      <th>0</th>\n",
       "      <td>1</td>\n",
       "      <td>2013</td>\n",
       "      <td>3</td>\n",
       "      <td>1</td>\n",
       "      <td>0</td>\n",
       "      <td>4.0</td>\n",
       "      <td>4.0</td>\n",
       "      <td>14.0</td>\n",
       "      <td>20.0</td>\n",
       "      <td>300.0</td>\n",
       "      <td>69.0</td>\n",
       "      <td>-0.7</td>\n",
       "      <td>1023.0</td>\n",
       "      <td>-18.8</td>\n",
       "      <td>0.0</td>\n",
       "      <td>NNW</td>\n",
       "      <td>4.4</td>\n",
       "      <td>Guanyuan</td>\n",
       "    </tr>\n",
       "    <tr>\n",
       "      <th>1</th>\n",
       "      <td>2</td>\n",
       "      <td>2013</td>\n",
       "      <td>3</td>\n",
       "      <td>1</td>\n",
       "      <td>1</td>\n",
       "      <td>4.0</td>\n",
       "      <td>4.0</td>\n",
       "      <td>13.0</td>\n",
       "      <td>17.0</td>\n",
       "      <td>300.0</td>\n",
       "      <td>72.0</td>\n",
       "      <td>-1.1</td>\n",
       "      <td>1023.2</td>\n",
       "      <td>-18.2</td>\n",
       "      <td>0.0</td>\n",
       "      <td>N</td>\n",
       "      <td>4.7</td>\n",
       "      <td>Guanyuan</td>\n",
       "    </tr>\n",
       "    <tr>\n",
       "      <th>2</th>\n",
       "      <td>3</td>\n",
       "      <td>2013</td>\n",
       "      <td>3</td>\n",
       "      <td>1</td>\n",
       "      <td>2</td>\n",
       "      <td>3.0</td>\n",
       "      <td>3.0</td>\n",
       "      <td>10.0</td>\n",
       "      <td>19.0</td>\n",
       "      <td>300.0</td>\n",
       "      <td>69.0</td>\n",
       "      <td>-1.1</td>\n",
       "      <td>1023.5</td>\n",
       "      <td>-18.2</td>\n",
       "      <td>0.0</td>\n",
       "      <td>NNW</td>\n",
       "      <td>5.6</td>\n",
       "      <td>Guanyuan</td>\n",
       "    </tr>\n",
       "    <tr>\n",
       "      <th>3</th>\n",
       "      <td>4</td>\n",
       "      <td>2013</td>\n",
       "      <td>3</td>\n",
       "      <td>1</td>\n",
       "      <td>3</td>\n",
       "      <td>3.0</td>\n",
       "      <td>6.0</td>\n",
       "      <td>7.0</td>\n",
       "      <td>24.0</td>\n",
       "      <td>400.0</td>\n",
       "      <td>62.0</td>\n",
       "      <td>-1.4</td>\n",
       "      <td>1024.5</td>\n",
       "      <td>-19.4</td>\n",
       "      <td>0.0</td>\n",
       "      <td>NW</td>\n",
       "      <td>3.1</td>\n",
       "      <td>Guanyuan</td>\n",
       "    </tr>\n",
       "    <tr>\n",
       "      <th>4</th>\n",
       "      <td>5</td>\n",
       "      <td>2013</td>\n",
       "      <td>3</td>\n",
       "      <td>1</td>\n",
       "      <td>4</td>\n",
       "      <td>3.0</td>\n",
       "      <td>6.0</td>\n",
       "      <td>5.0</td>\n",
       "      <td>14.0</td>\n",
       "      <td>400.0</td>\n",
       "      <td>71.0</td>\n",
       "      <td>-2.0</td>\n",
       "      <td>1025.2</td>\n",
       "      <td>-19.5</td>\n",
       "      <td>0.0</td>\n",
       "      <td>N</td>\n",
       "      <td>2.0</td>\n",
       "      <td>Guanyuan</td>\n",
       "    </tr>\n",
       "  </tbody>\n",
       "</table>\n",
       "</div>"
      ],
      "text/plain": [
       "   No  year  month  day  hour  PM2.5  PM10   SO2   NO2     CO    O3  TEMP  \\\n",
       "0   1  2013      3    1     0    4.0   4.0  14.0  20.0  300.0  69.0  -0.7   \n",
       "1   2  2013      3    1     1    4.0   4.0  13.0  17.0  300.0  72.0  -1.1   \n",
       "2   3  2013      3    1     2    3.0   3.0  10.0  19.0  300.0  69.0  -1.1   \n",
       "3   4  2013      3    1     3    3.0   6.0   7.0  24.0  400.0  62.0  -1.4   \n",
       "4   5  2013      3    1     4    3.0   6.0   5.0  14.0  400.0  71.0  -2.0   \n",
       "\n",
       "     PRES  DEWP  RAIN   wd  WSPM   station  \n",
       "0  1023.0 -18.8   0.0  NNW   4.4  Guanyuan  \n",
       "1  1023.2 -18.2   0.0    N   4.7  Guanyuan  \n",
       "2  1023.5 -18.2   0.0  NNW   5.6  Guanyuan  \n",
       "3  1024.5 -19.4   0.0   NW   3.1  Guanyuan  \n",
       "4  1025.2 -19.5   0.0    N   2.0  Guanyuan  "
      ]
     },
     "execution_count": 6,
     "metadata": {},
     "output_type": "execute_result"
    }
   ],
   "source": [
    "guanyuan_df = pd.read_csv(\"https://raw.githubusercontent.com/marceloreis/HTI/refs/heads/master/PRSA_Data_20130301-20170228/PRSA_Data_Guanyuan_20130301-20170228.csv\")\n",
    "guanyuan_df.head()"
   ]
  },
  {
   "cell_type": "code",
   "execution_count": 7,
   "id": "3a453dfa-16dd-40c6-8382-88e2e26f627f",
   "metadata": {},
   "outputs": [
    {
     "data": {
      "text/html": [
       "<div>\n",
       "<style scoped>\n",
       "    .dataframe tbody tr th:only-of-type {\n",
       "        vertical-align: middle;\n",
       "    }\n",
       "\n",
       "    .dataframe tbody tr th {\n",
       "        vertical-align: top;\n",
       "    }\n",
       "\n",
       "    .dataframe thead th {\n",
       "        text-align: right;\n",
       "    }\n",
       "</style>\n",
       "<table border=\"1\" class=\"dataframe\">\n",
       "  <thead>\n",
       "    <tr style=\"text-align: right;\">\n",
       "      <th></th>\n",
       "      <th>No</th>\n",
       "      <th>year</th>\n",
       "      <th>month</th>\n",
       "      <th>day</th>\n",
       "      <th>hour</th>\n",
       "      <th>PM2.5</th>\n",
       "      <th>PM10</th>\n",
       "      <th>SO2</th>\n",
       "      <th>NO2</th>\n",
       "      <th>CO</th>\n",
       "      <th>O3</th>\n",
       "      <th>TEMP</th>\n",
       "      <th>PRES</th>\n",
       "      <th>DEWP</th>\n",
       "      <th>RAIN</th>\n",
       "      <th>wd</th>\n",
       "      <th>WSPM</th>\n",
       "      <th>station</th>\n",
       "    </tr>\n",
       "  </thead>\n",
       "  <tbody>\n",
       "    <tr>\n",
       "      <th>0</th>\n",
       "      <td>1</td>\n",
       "      <td>2013</td>\n",
       "      <td>3</td>\n",
       "      <td>1</td>\n",
       "      <td>0</td>\n",
       "      <td>6.0</td>\n",
       "      <td>18.0</td>\n",
       "      <td>5.0</td>\n",
       "      <td>NaN</td>\n",
       "      <td>800.0</td>\n",
       "      <td>88.0</td>\n",
       "      <td>0.1</td>\n",
       "      <td>1021.1</td>\n",
       "      <td>-18.6</td>\n",
       "      <td>0.0</td>\n",
       "      <td>NW</td>\n",
       "      <td>4.4</td>\n",
       "      <td>Gucheng</td>\n",
       "    </tr>\n",
       "    <tr>\n",
       "      <th>1</th>\n",
       "      <td>2</td>\n",
       "      <td>2013</td>\n",
       "      <td>3</td>\n",
       "      <td>1</td>\n",
       "      <td>1</td>\n",
       "      <td>6.0</td>\n",
       "      <td>15.0</td>\n",
       "      <td>5.0</td>\n",
       "      <td>NaN</td>\n",
       "      <td>800.0</td>\n",
       "      <td>88.0</td>\n",
       "      <td>-0.3</td>\n",
       "      <td>1021.5</td>\n",
       "      <td>-19.0</td>\n",
       "      <td>0.0</td>\n",
       "      <td>NW</td>\n",
       "      <td>4.0</td>\n",
       "      <td>Gucheng</td>\n",
       "    </tr>\n",
       "    <tr>\n",
       "      <th>2</th>\n",
       "      <td>3</td>\n",
       "      <td>2013</td>\n",
       "      <td>3</td>\n",
       "      <td>1</td>\n",
       "      <td>2</td>\n",
       "      <td>5.0</td>\n",
       "      <td>18.0</td>\n",
       "      <td>NaN</td>\n",
       "      <td>NaN</td>\n",
       "      <td>700.0</td>\n",
       "      <td>52.0</td>\n",
       "      <td>-0.7</td>\n",
       "      <td>1021.5</td>\n",
       "      <td>-19.8</td>\n",
       "      <td>0.0</td>\n",
       "      <td>WNW</td>\n",
       "      <td>4.6</td>\n",
       "      <td>Gucheng</td>\n",
       "    </tr>\n",
       "    <tr>\n",
       "      <th>3</th>\n",
       "      <td>4</td>\n",
       "      <td>2013</td>\n",
       "      <td>3</td>\n",
       "      <td>1</td>\n",
       "      <td>3</td>\n",
       "      <td>6.0</td>\n",
       "      <td>20.0</td>\n",
       "      <td>6.0</td>\n",
       "      <td>NaN</td>\n",
       "      <td>NaN</td>\n",
       "      <td>NaN</td>\n",
       "      <td>-1.0</td>\n",
       "      <td>1022.7</td>\n",
       "      <td>-21.2</td>\n",
       "      <td>0.0</td>\n",
       "      <td>W</td>\n",
       "      <td>2.8</td>\n",
       "      <td>Gucheng</td>\n",
       "    </tr>\n",
       "    <tr>\n",
       "      <th>4</th>\n",
       "      <td>5</td>\n",
       "      <td>2013</td>\n",
       "      <td>3</td>\n",
       "      <td>1</td>\n",
       "      <td>4</td>\n",
       "      <td>5.0</td>\n",
       "      <td>17.0</td>\n",
       "      <td>5.0</td>\n",
       "      <td>NaN</td>\n",
       "      <td>600.0</td>\n",
       "      <td>73.0</td>\n",
       "      <td>-1.3</td>\n",
       "      <td>1023.0</td>\n",
       "      <td>-21.4</td>\n",
       "      <td>0.0</td>\n",
       "      <td>WNW</td>\n",
       "      <td>3.6</td>\n",
       "      <td>Gucheng</td>\n",
       "    </tr>\n",
       "  </tbody>\n",
       "</table>\n",
       "</div>"
      ],
      "text/plain": [
       "   No  year  month  day  hour  PM2.5  PM10  SO2  NO2     CO    O3  TEMP  \\\n",
       "0   1  2013      3    1     0    6.0  18.0  5.0  NaN  800.0  88.0   0.1   \n",
       "1   2  2013      3    1     1    6.0  15.0  5.0  NaN  800.0  88.0  -0.3   \n",
       "2   3  2013      3    1     2    5.0  18.0  NaN  NaN  700.0  52.0  -0.7   \n",
       "3   4  2013      3    1     3    6.0  20.0  6.0  NaN    NaN   NaN  -1.0   \n",
       "4   5  2013      3    1     4    5.0  17.0  5.0  NaN  600.0  73.0  -1.3   \n",
       "\n",
       "     PRES  DEWP  RAIN   wd  WSPM  station  \n",
       "0  1021.1 -18.6   0.0   NW   4.4  Gucheng  \n",
       "1  1021.5 -19.0   0.0   NW   4.0  Gucheng  \n",
       "2  1021.5 -19.8   0.0  WNW   4.6  Gucheng  \n",
       "3  1022.7 -21.2   0.0    W   2.8  Gucheng  \n",
       "4  1023.0 -21.4   0.0  WNW   3.6  Gucheng  "
      ]
     },
     "execution_count": 7,
     "metadata": {},
     "output_type": "execute_result"
    }
   ],
   "source": [
    "gucheng_df = pd.read_csv(\"https://raw.githubusercontent.com/marceloreis/HTI/refs/heads/master/PRSA_Data_20130301-20170228/PRSA_Data_Gucheng_20130301-20170228.csv\")\n",
    "gucheng_df.head()"
   ]
  },
  {
   "cell_type": "code",
   "execution_count": null,
   "id": "f65b0a02-41a1-4f44-9a8d-0b86e8b89d3b",
   "metadata": {},
   "outputs": [],
   "source": [
    "huairou_df = pd.read_csv(\"https://raw.githubusercontent.com/marceloreis/HTI/refs/heads/master/PRSA_Data_20130301-20170228/PRSA_Data_Huairou_20130301-20170228.csv\")\n",
    "huairou_df.head()"
   ]
  },
  {
   "cell_type": "code",
   "execution_count": null,
   "id": "52edabd8-3408-49c4-9947-576ee05d0379",
   "metadata": {},
   "outputs": [],
   "source": [
    "nongzhanguan_df = pd.read_csv(\"https://raw.githubusercontent.com/marceloreis/HTI/refs/heads/master/PRSA_Data_20130301-20170228/PRSA_Data_Nongzhanguan_20130301-20170228.csv\")\n",
    "nongzhanguan_df.head()"
   ]
  },
  {
   "cell_type": "code",
   "execution_count": null,
   "id": "3ebe42dc-23b6-4523-b405-479572ce6793",
   "metadata": {},
   "outputs": [],
   "source": [
    "shunyi_df = pd.read_csv(\"https://raw.githubusercontent.com/marceloreis/HTI/refs/heads/master/PRSA_Data_20130301-20170228/PRSA_Data_Shunyi_20130301-20170228.csv\")\n",
    "shunyi_df.head()"
   ]
  },
  {
   "cell_type": "code",
   "execution_count": null,
   "id": "9788dfa7-925c-4823-a62b-1b608b723906",
   "metadata": {},
   "outputs": [],
   "source": [
    "tiantan_df = pd.read_csv(\"https://raw.githubusercontent.com/marceloreis/HTI/refs/heads/master/PRSA_Data_20130301-20170228/PRSA_Data_Tiantan_20130301-20170228.csv\")\n",
    "tiantan_df.head()"
   ]
  },
  {
   "cell_type": "code",
   "execution_count": null,
   "id": "4afca112-c1bb-47fe-b1f8-b3289d924d7f",
   "metadata": {},
   "outputs": [],
   "source": [
    "wanliu_df = pd.read_csv(\"https://raw.githubusercontent.com/marceloreis/HTI/refs/heads/master/PRSA_Data_20130301-20170228/PRSA_Data_Wanliu_20130301-20170228.csv\")\n",
    "wanliu_df.head()"
   ]
  },
  {
   "cell_type": "code",
   "execution_count": null,
   "id": "de0d26d4-feae-4d91-91ca-1e7b011be9bc",
   "metadata": {},
   "outputs": [],
   "source": [
    "wanshouxigong_df = pd.read_csv(\"https://raw.githubusercontent.com/marceloreis/HTI/refs/heads/master/PRSA_Data_20130301-20170228/PRSA_Data_Wanshouxigong_20130301-20170228.csv\")\n",
    "wanshouxigong_df.head()"
   ]
  },
  {
   "cell_type": "markdown",
   "id": "9c4e89cc-ae65-43f5-8246-bcea85bde009",
   "metadata": {},
   "source": [
    "Insight:\n",
    "+ Korelasi antara suhu udara dengan kualitas udara dapat diamati. Kenaikan suhu dapat berdampak pada konsentrasi polutan, yang berguna untuk memprediksi kualitas udara di musim tertentu.\n",
    "+ Data dari berbagai lokasi memungkinkan untuk membandingkan kualitas udara antar wilayah. Ini bermanfaat untuk memahami tren geografis polusi.\n",
    "+ Angin dengan kecepatan tinggi dapat membantu menyebarkan polutan, sehingga daerah dengan kecepatan angin lebih tinggi mungkin menunjukkan tingkat polusi yang lebih rendah. Hubungan ini bisa lebih dipahami melalui visualisasi."
   ]
  },
  {
   "cell_type": "markdown",
   "id": "137311dc-770f-442c-a530-816b104431b2",
   "metadata": {},
   "source": [
    "### Assessing Data"
   ]
  },
  {
   "cell_type": "markdown",
   "id": "eb0a7c4b-088d-4953-adaf-76295a2ec0fa",
   "metadata": {},
   "source": [
    "#### Data aotizhongxin_df"
   ]
  },
  {
   "cell_type": "code",
   "execution_count": null,
   "id": "30b4ff33-8428-4fae-b253-fa42f9c0ef13",
   "metadata": {},
   "outputs": [],
   "source": [
    "aotizhongxin_df.info()"
   ]
  },
  {
   "cell_type": "code",
   "execution_count": null,
   "id": "2897f867-5fe4-4e07-a33c-38f462d3cd71",
   "metadata": {},
   "outputs": [],
   "source": [
    "aotizhongxin_df.isna().sum()"
   ]
  },
  {
   "cell_type": "markdown",
   "id": "bbefd5a2-de53-48f3-a51a-bfb83339a5a9",
   "metadata": {},
   "source": [
    "_dari data diatas dapat diketahui bahwa terdapat banyak missing value_"
   ]
  },
  {
   "cell_type": "code",
   "execution_count": null,
   "id": "503e5d0f-c75f-4c35-8c26-1a0924ad6b15",
   "metadata": {},
   "outputs": [],
   "source": [
    "print(\"Jumlah duplikasi: \", aotizhongxin_df.duplicated().sum())"
   ]
  },
  {
   "cell_type": "code",
   "execution_count": null,
   "id": "ae362234-26e7-4d4e-8faf-7c1e26c716e6",
   "metadata": {},
   "outputs": [],
   "source": [
    "aotizhongxin_df.describe()"
   ]
  },
  {
   "cell_type": "markdown",
   "id": "22c5d0f5-4e4a-42d4-b458-4ce8c93611f0",
   "metadata": {},
   "source": [
    "#### Data changping_df"
   ]
  },
  {
   "cell_type": "code",
   "execution_count": null,
   "id": "7b2d5fd2-b41e-4742-b979-7f9fbd345f32",
   "metadata": {},
   "outputs": [],
   "source": [
    "changping_df.info()"
   ]
  },
  {
   "cell_type": "code",
   "execution_count": null,
   "id": "76a86a94-8f73-4859-b1ff-3a8eadf6b65f",
   "metadata": {},
   "outputs": [],
   "source": [
    "changping_df.isna().sum()"
   ]
  },
  {
   "cell_type": "markdown",
   "id": "b96428a2-3c04-4ce8-bc3b-20814e46970c",
   "metadata": {},
   "source": [
    "_dari data di atas terdeteksi bahwa terdapat missing value_"
   ]
  },
  {
   "cell_type": "code",
   "execution_count": null,
   "id": "2eea56b0-2fce-4296-aeb0-50b1f402edbc",
   "metadata": {},
   "outputs": [],
   "source": [
    "print(\"Jumlah duplikasi: \", changping_df.duplicated().sum())"
   ]
  },
  {
   "cell_type": "code",
   "execution_count": null,
   "id": "c7fff4f1-0adc-469a-9055-902faec23537",
   "metadata": {
    "scrolled": true
   },
   "outputs": [],
   "source": [
    "changping_df.describe()"
   ]
  },
  {
   "cell_type": "markdown",
   "id": "56417488-03a4-4bd4-800b-18dccacd139b",
   "metadata": {},
   "source": [
    "#### Data dingling_df"
   ]
  },
  {
   "cell_type": "code",
   "execution_count": null,
   "id": "f708122c-5006-4089-a7ab-9b9f346a37ea",
   "metadata": {},
   "outputs": [],
   "source": [
    "dingling_df.info()"
   ]
  },
  {
   "cell_type": "code",
   "execution_count": null,
   "id": "985451b1-e0ad-4b45-a434-35d248736ba2",
   "metadata": {},
   "outputs": [],
   "source": [
    "dingling_df.isna().sum()"
   ]
  },
  {
   "cell_type": "code",
   "execution_count": null,
   "id": "4c66df18-c6d2-40f8-89d0-c11f27c4593d",
   "metadata": {},
   "outputs": [],
   "source": [
    "print(\"Jumlah duplikasi: \", dingling_df.duplicated().sum())"
   ]
  },
  {
   "cell_type": "code",
   "execution_count": null,
   "id": "49677b67-4b21-4390-b4b1-6bd6f4f85600",
   "metadata": {},
   "outputs": [],
   "source": [
    "dingling_df.describe()"
   ]
  },
  {
   "cell_type": "markdown",
   "id": "a95a9357-c5f6-4278-9a10-2cf231e6ccf2",
   "metadata": {},
   "source": [
    "#### Data dongsi_df"
   ]
  },
  {
   "cell_type": "code",
   "execution_count": null,
   "id": "b0c3cfc0-ae4b-4d53-a359-076d10d3eccd",
   "metadata": {},
   "outputs": [],
   "source": [
    "dongsi_df.info()"
   ]
  },
  {
   "cell_type": "code",
   "execution_count": null,
   "id": "76811de2-f9ac-4238-900c-87806f27123c",
   "metadata": {},
   "outputs": [],
   "source": [
    "dongsi_df.isna().sum()"
   ]
  },
  {
   "cell_type": "code",
   "execution_count": null,
   "id": "fed6cb49-6ef2-4cfb-87a6-7c26682ee227",
   "metadata": {},
   "outputs": [],
   "source": [
    "print(\"Jumlah duplikasi: \", dongsi_df.duplicated().sum())"
   ]
  },
  {
   "cell_type": "code",
   "execution_count": null,
   "id": "309ac0d5-1d38-4278-9b43-4b0e6dc9b206",
   "metadata": {},
   "outputs": [],
   "source": [
    "dongsi_df.describe()"
   ]
  },
  {
   "cell_type": "markdown",
   "id": "50340cd4-8b95-4bba-8bb1-6e521b3a8318",
   "metadata": {},
   "source": [
    "#### Data guanyuan_df"
   ]
  },
  {
   "cell_type": "code",
   "execution_count": null,
   "id": "89de805a-edb1-4e3a-a2a4-7ad234fc3abf",
   "metadata": {},
   "outputs": [],
   "source": [
    "guanyuan_df.info()\n",
    "guanyuan_df.isna().sum()\n",
    "print(\"Jumlah duplikasi: \", guanyuan_df.duplicated().sum())\n",
    "guanyuan_df.describe()"
   ]
  },
  {
   "cell_type": "markdown",
   "id": "db5b38c1-8873-42cd-b537-2df52152403f",
   "metadata": {},
   "source": [
    "#### Data gucheng_df"
   ]
  },
  {
   "cell_type": "code",
   "execution_count": null,
   "id": "144431d2-e8a0-48cf-a702-c0705b20416d",
   "metadata": {},
   "outputs": [],
   "source": [
    "gucheng_df.info()\n",
    "gucheng_df.isna().sum()\n",
    "print(\"Jumlah duplikasi: \", gucheng_df.duplicated().sum())\n",
    "gucheng_df.describe()"
   ]
  },
  {
   "cell_type": "markdown",
   "id": "2240de09-219b-4ce9-94ad-cb1f408e0c50",
   "metadata": {},
   "source": [
    "#### Data huairou_df"
   ]
  },
  {
   "cell_type": "code",
   "execution_count": null,
   "id": "14b48b96-d504-44e0-bf82-7ccce93259f9",
   "metadata": {},
   "outputs": [],
   "source": [
    "huairou_df.info()\n",
    "huairou_df.isna().sum()\n",
    "print(\"Jumlah duplikasi: \", huairou_df.duplicated().sum())\n",
    "huairou_df.describe()"
   ]
  },
  {
   "cell_type": "markdown",
   "id": "1695c908-99be-421b-97e9-8e2ab3fc48b3",
   "metadata": {},
   "source": [
    "#### Data nongzhanguan_df"
   ]
  },
  {
   "cell_type": "code",
   "execution_count": null,
   "id": "f75f880d-ad78-4f87-9cc6-b7695afa982d",
   "metadata": {},
   "outputs": [],
   "source": [
    "nongzhanguan_df.info()\n",
    "nongzhanguan_df.isna().sum()\n",
    "print(\"Jumlah duplikasi: \", nongzhanguan_df.duplicated().sum())\n",
    "nongzhanguan_df.describe()"
   ]
  },
  {
   "cell_type": "markdown",
   "id": "99a78e6a-789f-4db4-adc0-7139d3067471",
   "metadata": {},
   "source": [
    "#### Data shunyi_df"
   ]
  },
  {
   "cell_type": "code",
   "execution_count": null,
   "id": "fec54bf6-f86f-4d39-9dc3-c678775268bd",
   "metadata": {},
   "outputs": [],
   "source": [
    "shunyi_df.info()\n",
    "shunyi_df.isna().sum()\n",
    "print(\"Jumlah duplikasi: \", shunyi_df.duplicated().sum())\n",
    "shunyi_df.describe()"
   ]
  },
  {
   "cell_type": "markdown",
   "id": "e66d4056-e657-480d-94b0-776a74ab2053",
   "metadata": {},
   "source": [
    "#### Data tiantan_df"
   ]
  },
  {
   "cell_type": "code",
   "execution_count": null,
   "id": "29b4c934-d9e0-48db-9d07-2b44bb7ea9ea",
   "metadata": {},
   "outputs": [],
   "source": [
    "tiantan_df.info()\n",
    "tiantan_df.isna().sum()\n",
    "print(\"Jumlah duplikasi: \", tiantan_df.duplicated().sum())\n",
    "tiantan_df.describe()"
   ]
  },
  {
   "cell_type": "markdown",
   "id": "b3b944fd-3a9d-43db-866f-d5d2a4fbe500",
   "metadata": {},
   "source": [
    "#### Data wanliu_df"
   ]
  },
  {
   "cell_type": "code",
   "execution_count": null,
   "id": "df8b8463-5f11-45b4-bdc0-6ff8c0535fa2",
   "metadata": {},
   "outputs": [],
   "source": [
    "wanliu_df.info()\n",
    "wanliu_df.isna().sum()\n",
    "print(\"Jumlah duplikasi: \", wanliu_df.duplicated().sum())\n",
    "wanliu_df.describe()"
   ]
  },
  {
   "cell_type": "markdown",
   "id": "85fb6397-b22d-4bad-996e-b5fe87e74512",
   "metadata": {},
   "source": [
    "#### Data wanshouxigong_df"
   ]
  },
  {
   "cell_type": "code",
   "execution_count": null,
   "id": "fd8200d4-3f9a-4435-bc3a-f9d833432a04",
   "metadata": {},
   "outputs": [],
   "source": [
    "wanshouxigong_df.info()\n",
    "wanshouxigong_df.isna().sum()\n",
    "print(\"Jumlah duplikasi: \", wanshouxigong_df.duplicated().sum())\n",
    "wanshouxigong_df.describe()"
   ]
  },
  {
   "cell_type": "markdown",
   "id": "4b194012-28c0-43f9-8aea-fcd6d14dc9d8",
   "metadata": {},
   "source": [
    "Insight:\n",
    "+ Terdapat 35.064 entri dengan 18 kolom, menunjukkan ukuran dataset yang cukup besar untuk analisis mendalam.\n",
    "+ Beberapa kolom seperti PM2.5, SO2, NO2, dan O3 mengandung nilai yang hilang (missing values). Kolom seperti TEMP, PRES, dan DEWP tidak memiliki missing values.\n",
    "+ Kolom seperti PM2.5, PM10, SO2, NO2, dan O3 adalah indikator utama kualitas udara. Pemrosesan missing values di kolom ini sangat penting untuk analisis yang akurat."
   ]
  },
  {
   "cell_type": "markdown",
   "id": "66fa444b-13c1-4c8b-acd4-54bf7a76d1ab",
   "metadata": {},
   "source": [
    "### Cleaning Data "
   ]
  },
  {
   "cell_type": "code",
   "execution_count": null,
   "id": "4f282429-b693-4783-90b5-ebebaeacbe78",
   "metadata": {},
   "outputs": [],
   "source": [
    "aotizhongxin_df[aotizhongxin_df['PM2.5'].isna()]"
   ]
  },
  {
   "cell_type": "code",
   "execution_count": null,
   "id": "cf2a57ee-9b85-4069-ba66-6e232af480b1",
   "metadata": {},
   "outputs": [],
   "source": [
    "aotizhongxin_df['PM2.5'].value_counts()"
   ]
  },
  {
   "cell_type": "code",
   "execution_count": null,
   "id": "9490d7c9-4c3d-4fad-9923-4ad1e324db93",
   "metadata": {},
   "outputs": [],
   "source": [
    "aotizhongxin_df.fillna(value=9.0, inplace=True)\n",
    "aotizhongxin_df.isna().sum()"
   ]
  },
  {
   "cell_type": "code",
   "execution_count": null,
   "id": "2f3e4b6d-d3b1-4b90-88d6-facabda3c818",
   "metadata": {},
   "outputs": [],
   "source": [
    "changping_df[changping_df['PM2.5'].isna()]\n",
    "changping_df['PM2.5'].value_counts()"
   ]
  },
  {
   "cell_type": "code",
   "execution_count": null,
   "id": "86bb8c64-2eb6-4494-9ff7-8488bc997137",
   "metadata": {},
   "outputs": [],
   "source": [
    "changping_df.fillna(value=11.0, inplace=True)\n",
    "changping_df.isna().sum()"
   ]
  },
  {
   "cell_type": "code",
   "execution_count": null,
   "id": "82579b98-9ddb-469a-b10e-2a4d6eaca334",
   "metadata": {},
   "outputs": [],
   "source": [
    "dingling_df[dingling_df['PM2.5'].isna()]\n",
    "dingling_df['PM2.5'].value_counts()"
   ]
  },
  {
   "cell_type": "code",
   "execution_count": null,
   "id": "17b0e8be-29e0-4859-b83e-8e0edba43327",
   "metadata": {},
   "outputs": [],
   "source": [
    "dingling_df.fillna(value=3.0, inplace=True)\n",
    "dingling_df.isna().sum()"
   ]
  },
  {
   "cell_type": "code",
   "execution_count": null,
   "id": "7b47bf59-7b5b-40de-aaca-9fa990e7fbac",
   "metadata": {},
   "outputs": [],
   "source": [
    "dongsi_df[dongsi_df['PM2.5'].isna()]\n",
    "dongsi_df['PM2.5'].value_counts()"
   ]
  },
  {
   "cell_type": "code",
   "execution_count": null,
   "id": "84ee25a5-be5a-442d-b852-b7b54e8b5e79",
   "metadata": {},
   "outputs": [],
   "source": [
    "dingling_df.fillna(value=3.0, inplace=True)\n",
    "dingling_df.isna().sum()"
   ]
  },
  {
   "cell_type": "code",
   "execution_count": null,
   "id": "b859e246-1c87-4bc5-a2fc-5ff4c52cba69",
   "metadata": {},
   "outputs": [],
   "source": [
    "guanyuan_df[guanyuan_df['PM2.5'].isna()]\n",
    "guanyuan_df['PM2.5'].value_counts()"
   ]
  },
  {
   "cell_type": "code",
   "execution_count": null,
   "id": "6c0f9258-d0a6-4637-8383-fbb293775784",
   "metadata": {},
   "outputs": [],
   "source": [
    "guanyuan_df.fillna(value=11.0, inplace=True)\n",
    "guanyuan_df.isna().sum()"
   ]
  },
  {
   "cell_type": "code",
   "execution_count": null,
   "id": "9a050ec9-a7ba-4864-affc-2d6e5bf79f9f",
   "metadata": {},
   "outputs": [],
   "source": [
    "gucheng_df[gucheng_df['PM2.5'].isna()]\n",
    "gucheng_df['PM2.5'].value_counts()"
   ]
  },
  {
   "cell_type": "code",
   "execution_count": null,
   "id": "180a16bd-9f9f-459c-9b8a-0a3d6c6434ce",
   "metadata": {},
   "outputs": [],
   "source": [
    "gucheng_df.fillna(value=8.0, inplace=True)\n",
    "gucheng_df.isna().sum()"
   ]
  },
  {
   "cell_type": "code",
   "execution_count": null,
   "id": "00c88b1c-6e51-4e8d-b777-b31ec19b2434",
   "metadata": {},
   "outputs": [],
   "source": [
    "huairou_df[huairou_df['PM2.5'].isna()]\n",
    "huairou_df['PM2.5'].value_counts()"
   ]
  },
  {
   "cell_type": "code",
   "execution_count": null,
   "id": "83f4eedc-bb8c-4099-997f-e953ed80fe07",
   "metadata": {},
   "outputs": [],
   "source": [
    "huairou_df.fillna(value=3.0, inplace=True)\n",
    "huairou_df.isna().sum()"
   ]
  },
  {
   "cell_type": "code",
   "execution_count": null,
   "id": "dbbb076d-5c4a-417c-b3c2-1038bac65aa5",
   "metadata": {},
   "outputs": [],
   "source": [
    "nongzhanguan_df[nongzhanguan_df['PM2.5'].isna()]\n",
    "nongzhanguan_df['PM2.5'].value_counts()"
   ]
  },
  {
   "cell_type": "code",
   "execution_count": null,
   "id": "d752e2c6-8d55-4f60-856f-ae54ab3426b8",
   "metadata": {},
   "outputs": [],
   "source": [
    "nongzhanguan_df.fillna(value=3.0, inplace=True)\n",
    "nongzhanguan_df.isna().sum()"
   ]
  },
  {
   "cell_type": "code",
   "execution_count": null,
   "id": "83c5a56c-c7e6-42db-aade-54edbe618327",
   "metadata": {},
   "outputs": [],
   "source": [
    "shunyi_df[shunyi_df['PM2.5'].isna()]\n",
    "shunyi_df['PM2.5'].value_counts()"
   ]
  },
  {
   "cell_type": "code",
   "execution_count": null,
   "id": "8b51af72-d90f-4e3a-bc0f-9d915213503c",
   "metadata": {},
   "outputs": [],
   "source": [
    "shunyi_df.fillna(value=3.0, inplace=True)\n",
    "shunyi_df.isna().sum()"
   ]
  },
  {
   "cell_type": "code",
   "execution_count": null,
   "id": "174cf044-46b8-4c51-b54e-6e84d2bbced2",
   "metadata": {},
   "outputs": [],
   "source": [
    "tiantan_df[tiantan_df['PM2.5'].isna()]\n",
    "tiantan_df['PM2.5'].value_counts()"
   ]
  },
  {
   "cell_type": "code",
   "execution_count": null,
   "id": "fc9a4a48-ccea-48b5-a6b6-6230e6115c6f",
   "metadata": {},
   "outputs": [],
   "source": [
    "tiantan_df.fillna(value=3.0, inplace=True)\n",
    "tiantan_df.isna().sum()"
   ]
  },
  {
   "cell_type": "code",
   "execution_count": null,
   "id": "68200418-278b-4f14-b30c-cc72dea60e9c",
   "metadata": {},
   "outputs": [],
   "source": [
    "wanliu_df[wanliu_df['PM2.5'].isna()]\n",
    "wanliu_df['PM2.5'].value_counts()"
   ]
  },
  {
   "cell_type": "code",
   "execution_count": null,
   "id": "a7b9f45c-d02b-4c60-b059-de42dbbe2cfd",
   "metadata": {},
   "outputs": [],
   "source": [
    "wanliu_df.fillna(value=3.0, inplace=True)\n",
    "wanliu_df.isna().sum()"
   ]
  },
  {
   "cell_type": "code",
   "execution_count": null,
   "id": "ffd737e5-f7e8-4705-b9a7-73a9a89a5dd9",
   "metadata": {},
   "outputs": [],
   "source": [
    "wanshouxigong_df[wanshouxigong_df['PM2.5'].isna()]\n",
    "wanshouxigong_df['PM2.5'].value_counts()"
   ]
  },
  {
   "cell_type": "code",
   "execution_count": null,
   "id": "7232f4c3-7a46-4ede-9a50-638d4e88d209",
   "metadata": {},
   "outputs": [],
   "source": [
    "wanshouxigong_df.fillna(value=3.0, inplace=True)\n",
    "wanshouxigong_df.isna().sum()"
   ]
  },
  {
   "cell_type": "markdown",
   "id": "4e3243d2-3a87-4df2-bd8f-15ced664dd8f",
   "metadata": {},
   "source": [
    "Insight:\n",
    "+ Meskipun jumlah nilai yang hilang berbeda, pendekatan konsisten seperti checking missing values dan imputation/removal diterapkan di seluruh dataset untuk menjaga integritas data\n",
    "+ Penanganan missing values bisa dilakukan dengan teknik seperti imputasi (mengisi dengan rata-rata/median) atau menghapus baris-baris tertentu, bergantung pada jumlah dan distribusi missing data. Namun, karena rata-rata jumlah datanya besar, maka digunakan teknik imputasi."
   ]
  },
  {
   "cell_type": "markdown",
   "id": "a9100089-7066-4f08-8454-9870ace12b11",
   "metadata": {},
   "source": [
    "## Exploratory Data Analysis"
   ]
  },
  {
   "cell_type": "markdown",
   "id": "1d43bb07-3a84-4e55-9034-87528f40bbf5",
   "metadata": {},
   "source": [
    "### Eksplorasi Data"
   ]
  },
  {
   "cell_type": "markdown",
   "id": "686ceb20-ff9a-4b3b-90a5-374db037d33f",
   "metadata": {},
   "source": [
    "Saya akan mengeksplorasi data dimulai dari aotizhongxin_df untuk menganalisis bagaimana level polusi udara berubah seiring waktu. Dengan mengelompokkan data berdasarkan lokasi dan periode waktu tertentu, kita bisa mengidentifikasi pola variasi polusi, apakah ada tren yang meningkat atau menurun. Melakukan analisis rata-rata bulanan atau tahunan dapat memberikan wawasan lebih mendalam mengenai fluktuasi polusi dan membantu mengungkap tren jangka panjang, seperti perubahan musiman atau kejadian tertentu yang mempengaruhi kualitas udara."
   ]
  },
  {
   "cell_type": "code",
   "execution_count": null,
   "id": "9b78a05a-3cb8-4ffe-a687-40c7f3a40fae",
   "metadata": {},
   "outputs": [],
   "source": [
    "aotizhongxin_df.describe(include=\"all\")"
   ]
  },
  {
   "cell_type": "code",
   "execution_count": null,
   "id": "8f8b72a1-757e-4e9d-a26f-d4257cfa47fb",
   "metadata": {},
   "outputs": [],
   "source": [
    "aotizhongxin_df['date'] = pd.to_datetime(aotizhongxin_df[['year', 'month', 'day']])\n",
    "monthly_avg_pm25_aotizhongxin = aotizhongxin_df.groupby(aotizhongxin_df['date'].dt.to_period('M'))['PM2.5'].mean().reset_index()\n",
    "print(monthly_avg_pm25_aotizhongxin)"
   ]
  },
  {
   "cell_type": "markdown",
   "id": "c9e7aa31-c787-42a8-9628-0269cd69676b",
   "metadata": {},
   "source": [
    "Data tersebut menunjukkan variasi rata-rata bulanan konsentrasi **PM2.5** di Aotizhongxin dari tahun 2013 hingga 2017, dengan fluktuasi yang jelas setiap bulannya. Konsentrasi PM2.5 cenderung lebih tinggi selama musim dingin, dengan beberapa puncak signifikan, seperti Februari 2014 dan Desember 2015."
   ]
  },
  {
   "cell_type": "code",
   "execution_count": null,
   "id": "7d91aa84-dc3c-4f08-babe-528918fdee07",
   "metadata": {},
   "outputs": [],
   "source": [
    "changping_df.describe(include=\"all\")"
   ]
  },
  {
   "cell_type": "code",
   "execution_count": null,
   "id": "023f40ee-5540-44fb-a5aa-9ca9307dad37",
   "metadata": {},
   "outputs": [],
   "source": [
    "changping_df['date'] = pd.to_datetime(changping_df[['year', 'month', 'day']])\n",
    "monthly_avg_pm25_changping = changping_df.groupby(changping_df['date'].dt.to_period('M'))['PM2.5'].mean().reset_index()\n",
    "print(monthly_avg_pm25_changping)"
   ]
  },
  {
   "cell_type": "markdown",
   "id": "a8f7131a-f070-475a-8cd6-c277256d68e5",
   "metadata": {},
   "source": [
    "Data menunjukkan rata-rata bulanan PM2.5 di Changping dari Maret 2013 hingga Februari 2017. Terdapat fluktuasi tingkat polusi, dengan puncak signifikan pada Februari 2014 dan Desember 2015. Polusi cenderung lebih tinggi di musim dingin dan lebih rendah di musim panas."
   ]
  },
  {
   "cell_type": "code",
   "execution_count": null,
   "id": "ff49842c-39f1-4c27-8890-62fd396062f0",
   "metadata": {},
   "outputs": [],
   "source": [
    "dingling_df.describe(include=\"all\")"
   ]
  },
  {
   "cell_type": "code",
   "execution_count": null,
   "id": "969d9ae0-b7f6-4ea5-97d2-03dad26d5772",
   "metadata": {},
   "outputs": [],
   "source": [
    "dingling_df['date'] = pd.to_datetime(dingling_df[['year', 'month', 'day']])\n",
    "monthly_avg_pm25_dingling = dingling_df.groupby(dingling_df['date'].dt.to_period('M'))['PM2.5'].mean().reset_index()\n",
    "print(monthly_avg_pm25_dingling)"
   ]
  },
  {
   "cell_type": "markdown",
   "id": "1467e6ec-e5b7-46cb-a696-32596dfc94da",
   "metadata": {},
   "source": [
    "Data ini menunjukkan rata-rata bulanan PM2.5 di Dingling dari Maret 2013 hingga Februari 2017. Polusi udara menunjukkan fluktuasi, dengan puncak tertinggi terjadi pada Februari 2014. Polusi cenderung lebih tinggi pada bulan-bulan dingin dan lebih rendah pada bulan-bulan hangat"
   ]
  },
  {
   "cell_type": "code",
   "execution_count": null,
   "id": "f6a7b795-eb0e-497d-97e6-28e30dd844d3",
   "metadata": {},
   "outputs": [],
   "source": [
    "dongsi_df.describe(include=\"all\")"
   ]
  },
  {
   "cell_type": "code",
   "execution_count": null,
   "id": "237e3b01-ce2d-4927-870c-8e6e87412dfe",
   "metadata": {},
   "outputs": [],
   "source": [
    "dongsi_df['date'] = pd.to_datetime(dongsi_df[['year', 'month', 'day']])\n",
    "monthly_avg_pm25_dongsi = dongsi_df.groupby(dongsi_df['date'].dt.to_period('M'))['PM2.5'].mean().reset_index()\n",
    "print(monthly_avg_pm25_dongsi)"
   ]
  },
  {
   "cell_type": "markdown",
   "id": "d5b69672-0d4f-4f17-8003-9756fabc2698",
   "metadata": {},
   "source": [
    "Data ini mencerminkan rata-rata bulanan PM2.5 di Dongsi dari Maret 2013 hingga Februari 2017. Terlihat adanya fluktuasi polusi udara, dengan puncak tertinggi pada Februari 2014. Selain itu, polusi cenderung lebih tinggi di bulan-bulan dingin dan lebih rendah saat musim hangat"
   ]
  },
  {
   "cell_type": "code",
   "execution_count": null,
   "id": "3032a24a-370b-45ea-9bdf-b4d097ecc4e1",
   "metadata": {},
   "outputs": [],
   "source": [
    "guanyuan_df.describe(include=\"all\")"
   ]
  },
  {
   "cell_type": "code",
   "execution_count": null,
   "id": "2e7bd592-12ba-4eac-a94c-f05e3d90ef94",
   "metadata": {},
   "outputs": [],
   "source": [
    "guanyuan_df['date'] = pd.to_datetime(guanyuan_df[['year', 'month', 'day']])\n",
    "monthly_avg_pm25_guanyuan = guanyuan_df.groupby(guanyuan_df['date'].dt.to_period('M'))['PM2.5'].mean().reset_index()\n",
    "print(monthly_avg_pm25_guanyuan)"
   ]
  },
  {
   "cell_type": "markdown",
   "id": "9bebdbaf-82c7-4b70-aa19-16b7644ea1e9",
   "metadata": {},
   "source": [
    "Data ini menunjukkan rata-rata bulanan PM2.5 di Guanyuan dari Maret 2013 hingga Februari 2017. Terdapat variasi dalam tingkat polusi dengan puncak tertinggi pada Februari 2014 dan cenderung lebih rendah selama bulan-bulan hangat. Polusi udara menunjukkan pola musiman yang jelas, di mana bulan-bulan dingin memiliki nilai yang lebih tinggi dibandingkan bulan-bulan hangat."
   ]
  },
  {
   "cell_type": "code",
   "execution_count": null,
   "id": "c1e99a72-f56f-4369-8a81-10d2299814d3",
   "metadata": {},
   "outputs": [],
   "source": [
    "gucheng_df.describe(include='all')"
   ]
  },
  {
   "cell_type": "code",
   "execution_count": null,
   "id": "e983716a-f18f-45f0-b3e7-45638841f1ac",
   "metadata": {},
   "outputs": [],
   "source": [
    "gucheng_df['date'] = pd.to_datetime(gucheng_df[['year', 'month', 'day']])\n",
    "monthly_avg_pm25_gucheng = gucheng_df.groupby(gucheng_df['date'].dt.to_period('M'))['PM2.5'].mean().reset_index()\n",
    "print(monthly_avg_pm25_gucheng)"
   ]
  },
  {
   "cell_type": "markdown",
   "id": "2a19a50a-7a20-4905-aa1d-fec46e6abecc",
   "metadata": {},
   "source": [
    "Data bulanan PM2.5 di Gucheng dari Maret 2013 hingga Februari 2017 menunjukkan variasi signifikan, dengan puncak tertinggi pada Februari 2014 (146.22 µg/m³). Bulan-bulan dingin, seperti Januari dan Februari, umumnya memiliki tingkat polusi yang lebih tinggi dibandingkan bulan hangat."
   ]
  },
  {
   "cell_type": "code",
   "execution_count": null,
   "id": "11db9a38-8b9c-482a-b5fa-d9d7a4651d8b",
   "metadata": {},
   "outputs": [],
   "source": [
    "huairou_df.describe(include='all')"
   ]
  },
  {
   "cell_type": "code",
   "execution_count": null,
   "id": "7330bfb6-6477-4398-8018-90ef836ddf23",
   "metadata": {},
   "outputs": [],
   "source": [
    "huairou_df['date'] = pd.to_datetime(huairou_df[['year', 'month', 'day']])\n",
    "monthly_avg_pm25_huairou = huairou_df.groupby(huairou_df['date'].dt.to_period('M'))['PM2.5'].mean().reset_index()\n",
    "print(monthly_avg_pm25_huairou)"
   ]
  },
  {
   "cell_type": "markdown",
   "id": "551f4fa5-6222-4770-ac52-082053f06dcb",
   "metadata": {},
   "source": [
    "Data PM2.5 di Huairou (Maret 2013 - Februari 2017) menunjukkan fluktuasi, dengan puncak tertinggi pada Februari 2014 (149.33 µg/m³). Polusi cenderung lebih tinggi di bulan dingin."
   ]
  },
  {
   "cell_type": "code",
   "execution_count": null,
   "id": "849926e5-6e79-43d0-bc05-442c5ea7b95d",
   "metadata": {},
   "outputs": [],
   "source": [
    "nongzhanguan_df.describe(include='all')"
   ]
  },
  {
   "cell_type": "code",
   "execution_count": null,
   "id": "5f89fc49-b9d3-439b-99ec-b504e1b4f8fb",
   "metadata": {},
   "outputs": [],
   "source": [
    "nongzhanguan_df['date'] = pd.to_datetime(nongzhanguan_df[['year', 'month', 'day']])\n",
    "monthly_avg_pm25_nongzhanguan = nongzhanguan_df.groupby(nongzhanguan_df['date'].dt.to_period('M'))['PM2.5'].mean().reset_index()\n",
    "print(monthly_avg_pm25_nongzhanguan)"
   ]
  },
  {
   "cell_type": "markdown",
   "id": "00af08b3-cfd7-4caa-acb2-8a32a7c15c42",
   "metadata": {},
   "source": [
    "Data PM2.5 di Nongzhanguan (Maret 2013 - Februari 2017) menunjukkan variasi dengan puncak tertinggi pada Februari 2014 (146.65 µg/m³). Kualitas udara lebih buruk di bulan dingin dan lebih baik di bulan hangat."
   ]
  },
  {
   "cell_type": "code",
   "execution_count": null,
   "id": "075707e0-fb0e-4705-b068-803a90c7f095",
   "metadata": {},
   "outputs": [],
   "source": [
    "shunyi_df.describe(include='all')"
   ]
  },
  {
   "cell_type": "code",
   "execution_count": null,
   "id": "eeca8559-b83b-4797-8984-a75b305b7643",
   "metadata": {},
   "outputs": [],
   "source": [
    "shunyi_df['date'] = pd.to_datetime(shunyi_df[['year', 'month', 'day']])\n",
    "monthly_avg_pm25_shunyi = shunyi_df.groupby(shunyi_df['date'].dt.to_period('M'))['PM2.5'].mean().reset_index()\n",
    "print(monthly_avg_pm25_shunyi)"
   ]
  },
  {
   "cell_type": "markdown",
   "id": "72d1d67c-83a4-48cd-ae3b-41c00629f0e0",
   "metadata": {},
   "source": [
    "Data PM2.5 di Shunyi (Maret 2013 - Februari 2017) menunjukkan fluktuasi dengan puncak tertinggi di Februari 2014 (147.85 µg/m³). Kualitas udara cenderung lebih baik di bulan-bulan hangat dan mengalami peningkatan polusi pada bulan-bulan dingin, menunjukkan dampak musim terhadap kualitas udara."
   ]
  },
  {
   "cell_type": "code",
   "execution_count": null,
   "id": "fb6dfd1b-7f26-4a08-82db-a40240157333",
   "metadata": {},
   "outputs": [],
   "source": [
    "tiantan_df.describe(include='all')"
   ]
  },
  {
   "cell_type": "code",
   "execution_count": null,
   "id": "4adb11c7-201e-43f1-acb6-f41a7516bb09",
   "metadata": {},
   "outputs": [],
   "source": [
    "tiantan_df['date'] = pd.to_datetime(tiantan_df[['year', 'month', 'day']])\n",
    "monthly_avg_pm25_tiantan = tiantan_df.groupby(tiantan_df['date'].dt.to_period('M'))['PM2.5'].mean().reset_index()\n",
    "print(monthly_avg_pm25_tiantan)"
   ]
  },
  {
   "cell_type": "markdown",
   "id": "b97a28c4-697b-4fe3-a605-2b09bed19edc",
   "metadata": {},
   "source": [
    "Data PM2.5 di Tiantan (Maret 2013 - Februari 2017) menunjukkan fluktuasi, dengan puncak tertinggi pada Februari 2014, mencapai 146.65 µg/m³. Bulan dingin cenderung memiliki polusi lebih tinggi, sedangkan bulan hangat lebih rendah."
   ]
  },
  {
   "cell_type": "code",
   "execution_count": null,
   "id": "2198e7b9-f0c4-4ecb-9f60-7551fb52fdf2",
   "metadata": {},
   "outputs": [],
   "source": [
    "wanliu_df.describe(include='all')"
   ]
  },
  {
   "cell_type": "code",
   "execution_count": null,
   "id": "2aa90ef6-d3d5-45f4-af0b-152312272366",
   "metadata": {},
   "outputs": [],
   "source": [
    "wanliu_df['date'] = pd.to_datetime(wanliu_df[['year', 'month', 'day']])\n",
    "monthly_avg_pm25_wanliu = wanliu_df.groupby(wanliu_df['date'].dt.to_period('M'))['PM2.5'].mean().reset_index()\n",
    "print(monthly_avg_pm25_wanliu)"
   ]
  },
  {
   "cell_type": "markdown",
   "id": "43bbf2bd-1f83-4c63-bc69-bf343e2c51da",
   "metadata": {},
   "source": [
    "Data PM2.5 di Wanliu (Maret 2013 - Februari 2017) menunjukkan fluktuasi signifikan, dengan puncak tertinggi pada Februari 2014, mencapai 152.23 µg/m³. Umumnya, bulan dingin cenderung memiliki tingkat polusi yang lebih tinggi dibandingkan bulan hangat."
   ]
  },
  {
   "cell_type": "code",
   "execution_count": null,
   "id": "814d0111-c81f-4418-b30e-89d3e1743cf0",
   "metadata": {},
   "outputs": [],
   "source": [
    "wanshouxigong_df.describe(include='all')"
   ]
  },
  {
   "cell_type": "code",
   "execution_count": null,
   "id": "0777387f-2bad-4550-a093-cb70d1f23df1",
   "metadata": {},
   "outputs": [],
   "source": [
    "wanshouxigong_df['date'] = pd.to_datetime(wanshouxigong_df[['year', 'month', 'day']])\n",
    "monthly_avg_pm25_wanshouxigong = wanshouxigong_df.groupby(wanshouxigong_df['date'].dt.to_period('M'))['PM2.5'].mean().reset_index()\n",
    "print(monthly_avg_pm25_wanshouxigong)"
   ]
  },
  {
   "cell_type": "markdown",
   "id": "63106148-6c4e-4546-90cc-532132a46a5f",
   "metadata": {},
   "source": [
    "Data PM2.5 di Wanshouxigong (Maret 2013 - Februari 2017) menunjukkan variasi dengan puncak tertinggi pada Desember 2015, mencapai 163.51 µg/m³. Secara umum, bulan-bulan dingin cenderung memiliki konsentrasi PM2.5 yang lebih tinggi dibandingkan bulan-bulan hangat."
   ]
  },
  {
   "cell_type": "markdown",
   "id": "e5789dd1-8cad-4770-a9ea-5e84ec987a4c",
   "metadata": {},
   "source": [
    "**Berbagai lokasi menunjukkan bahwa kualitas udara cenderung lebih buruk selama bulan-bulan dingin, dengan puncak konsentrasi PM2.5 yang signifikan, terutama pada bulan Desember. Setiap lokasi menunjukkan pola musiman yang mirip, namun dengan fluktuasi tingkat polusi yang bervariasi.**"
   ]
  },
  {
   "cell_type": "code",
   "execution_count": null,
   "id": "5a7bd0e0-4913-42cf-a154-82ffa1075b1c",
   "metadata": {},
   "outputs": [],
   "source": [
    "combined_df = pd.concat([shunyi_df, aotizhongxin_df, changping_df, dingling_df, dongsi_df,\n",
    "                         guanyuan_df, gucheng_df, huairou_df, nongzhanguan_df, tiantan_df,\n",
    "                         wanliu_df, wanshouxigong_df], ignore_index=True)\n",
    "locations = ['Tiantan', 'Wanliu', 'Wanshouxigong', 'Shunyi', 'Aotizhongxin','Dingling', 'Changping', 'Gucheng', 'Guanyuan', 'Huairou','Dongsi', 'Nongzhanguan']\n",
    "number_of_rows_per_location = len(dongsi_df) \n",
    "combined_df['Location'] = [loc for loc in locations for _ in range(number_of_rows_per_location)]"
   ]
  },
  {
   "cell_type": "markdown",
   "id": "b82128eb-bb7a-4c07-9827-088e1dd0533b",
   "metadata": {},
   "source": [
    "Menyatukan data untuk dapat mengeksplor pertanyaan kedua dan ketiga."
   ]
  },
  {
   "cell_type": "markdown",
   "id": "24218ffb-ac2f-4f56-bb69-d6cb14d53d53",
   "metadata": {},
   "source": [
    "Hubungan antara kecepatan angin dan polusi udara bisa menunjukkan apakah angin membantu mengurangi konsentrasi polutan di udara. Korelasi antara WSPM dan PM2.5 dihitung untuk melihat apakah ada hubungan kuat, misalnya semakin tinggi kecepatan angin, semakin rendah tingkat polusi."
   ]
  },
  {
   "cell_type": "code",
   "execution_count": null,
   "id": "f56acab9-ab34-4ee7-9416-84637bc1df8b",
   "metadata": {},
   "outputs": [],
   "source": [
    "correlation = combined_df[['WSPM', 'PM2.5']].corr()\n",
    "print(correlation)"
   ]
  },
  {
   "cell_type": "markdown",
   "id": "5be23381-9efd-4de0-8274-ebae219b5524",
   "metadata": {},
   "source": [
    "Hasil korelasi antara `WSPM` (kecepatan angin) dan `PM2.5` menunjukkan nilai korelasi -0.267321. Ini menunjukkan adanya hubungan negatif yang lemah antara kecepatan angin dan konsentrasi PM2.5. Artinya, ketika kecepatan angin meningkat, konsentrasi PM2.5 cenderung menurun, meskipun hubungan ini tidak terlalu kuat."
   ]
  },
  {
   "cell_type": "markdown",
   "id": "1114eeb6-ed79-471a-84a8-b5c1cb1ea1b2",
   "metadata": {},
   "source": [
    "Selanjutnya eksplorasi untuk pertanyaan ketiga terkait Polusi Musiman dalam Level Polusi Udara.\n",
    "Polusi udara seringkali menunjukkan variasi musiman, misalnya, tingkat polusi mungkin lebih tinggi di musim dingin karena faktor-faktor seperti pemanasan rumah. Dengan mengelompokkan data berdasarkan musim, kita bisa melihat apakah ada perbedaan yang signifikan dalam level polusi di setiap musim."
   ]
  },
  {
   "cell_type": "code",
   "execution_count": null,
   "id": "83b3d32c-90a6-4ecf-8f5c-8692b8589e2b",
   "metadata": {},
   "outputs": [],
   "source": [
    "combined_df['season'] = combined_df['month'].apply(lambda x: 'Winter' if x in [12, 1, 2] else ('Spring' if x in [3, 4, 5] else ('Summer' if x in [6, 7, 8] else 'Fall')))\n",
    "seasonal_avg_pm25 = combined_df.groupby('season')['PM2.5'].mean()\n",
    "print(seasonal_avg_pm25)"
   ]
  },
  {
   "cell_type": "markdown",
   "id": "d6237884-7d29-47a7-942f-a1e97ca85c93",
   "metadata": {},
   "source": [
    "Data menunjukkan bahwa konsentrasi rata-rata PM2.5 berbeda menurut musim, dengan tingkat tertinggi pada musim dingin (93.81 µg/m³) dan terendah pada musim panas (63.57 µg/m³). Musim gugur dan semi mencatat 80.90 µg/m³ dan 75.53 µg/m³. Hasil ini mengindikasikan bahwa musim mempengaruhi polusi udara, mungkin karena variasi suhu, kelembapan, dan aktivitas manusia."
   ]
  },
  {
   "cell_type": "markdown",
   "id": "8dbf6e40-4a7c-4536-9c01-e97820c78e09",
   "metadata": {},
   "source": [
    "Insight:\n",
    "+ Variabel seperti suhu (TEMP) dan tekanan (PRES) memperlihatkan tren musiman, dengan variasi signifikan di bulan-bulan tertentu yang mungkin berkaitan dengan musim atau pola cuaca lokal.\n",
    "+ Korelasi antara PM2.5 dengan variabel cuaca lain seperti suhu dan kecepatan angin (WSPM) dapat membantu memahami hubungan antara polusi udara dan kondisi cuaca setempat.\n",
    "+ Data dari berbagai stasiun menunjukkan bahwa nilai polutan yang dilaporkan mirip di seluruh wilayah, namun beberapa lokasi (seperti Aotizhongxin) mungkin memiliki nilai polutan yang lebih konsisten atau lebih tinggi, yang bisa menjadi area fokus untuk kebijakan lokal."
   ]
  },
  {
   "cell_type": "markdown",
   "id": "37005b03-d25b-439e-bf49-08e3267e0e93",
   "metadata": {},
   "source": [
    "## Data Visualization"
   ]
  },
  {
   "cell_type": "markdown",
   "id": "543ea1a0-2db3-43f0-9bc2-3c29397f3cb4",
   "metadata": {},
   "source": [
    "**1. Tren Tahunan Konsentrasi PM2.5 di Setiap Stasiun Pemantauan**"
   ]
  },
  {
   "cell_type": "code",
   "execution_count": null,
   "id": "215b5f56-dd5b-435d-895c-87953eed5cff",
   "metadata": {},
   "outputs": [],
   "source": [
    "combined_df['datetime'] = pd.to_datetime(combined_df[['year', 'month', 'day']])\n",
    "combined_df['year'] = pd.DatetimeIndex(combined_df['datetime']).year\n",
    "pm25_trend = combined_df.groupby(['year', 'Location'])['PM2.5'].mean().unstack()\n",
    "\n",
    "plt.figure(figsize=(12, 6))\n",
    "pm25_trend.plot(ax=plt.gca())\n",
    "plt.title('Tren Tahunan Konsentrasi PM2.5 di Setiap Stasiun Pemantauan')\n",
    "plt.xlabel('Tahun')\n",
    "plt.ylabel('Konsentrasi PM2.5 (µg/m³)')\n",
    "plt.legend(title='Stasiun Pemantauan', bbox_to_anchor=(1.05, 1), loc='upper left')\n",
    "plt.show()\n"
   ]
  },
  {
   "cell_type": "markdown",
   "id": "7dcb3300-be9a-43f9-be33-abc500315749",
   "metadata": {},
   "source": [
    "**2. Perubahan Harian Kecepatan Angin dan Hubungannya dengan Faktor Cuaca Lainnya**"
   ]
  },
  {
   "cell_type": "code",
   "execution_count": null,
   "id": "20270726-336c-4f43-ae55-792a6215709a",
   "metadata": {},
   "outputs": [],
   "source": [
    "daily_wind_speed = combined_df.groupby(['date', 'Location'])['WSPM'].mean().unstack()\n",
    "\n",
    "plt.figure(figsize=(12, 6))\n",
    "daily_wind_speed.plot(ax=plt.gca())\n",
    "plt.title('Perubahan Harian Kecepatan Angin di Setiap Stasiun Pemantauan (2013-2017)')\n",
    "plt.xlabel('Tanggal')\n",
    "plt.ylabel('Kecepatan Angin (WSPM)')\n",
    "plt.legend(title='Stasiun Pemantauan', loc='upper left')  # Tentukan lokasi legenda secara manual\n",
    "plt.show()\n",
    "\n",
    "sns.scatterplot(data=combined_df, x='TEMP', y='WSPM', hue='Location')\n",
    "plt.title('Korelasi antara Kecepatan Angin dan Suhu')\n",
    "plt.xlabel('Suhu (°C)')\n",
    "plt.ylabel('Kecepatan Angin (WSPM)')\n",
    "plt.show()\n",
    "\n"
   ]
  },
  {
   "cell_type": "markdown",
   "id": "ee9bc652-7cab-445f-89e8-4dba3ab84f2b",
   "metadata": {},
   "source": [
    "**3. Variasi Harian Kecepatan Angin dan Korelasi dengan Indikator Cuaca Lainnya**"
   ]
  },
  {
   "cell_type": "code",
   "execution_count": null,
   "id": "0750cb2c-c368-4a29-85a8-129a8c59dc01",
   "metadata": {},
   "outputs": [],
   "source": [
    "plt.figure(figsize=(12, 6))\n",
    "sns.boxplot(data=combined_df, x='Location', y='WSPM')\n",
    "plt.title('Variasi Harian Kecepatan Angin di Setiap Stasiun Pemantauan (2013-2017)')\n",
    "plt.xlabel('Stasiun Pemantauan')\n",
    "plt.ylabel('Kecepatan Angin (WSPM)')\n",
    "plt.xticks(rotation=90)\n",
    "plt.show()\n",
    "\n",
    "print(combined_df.columns)\n",
    "\n",
    "weather_variables = ['WSPM', 'TEMP', 'PRES', 'DEWP', 'RAIN']  # Ganti dengan kolom yang benar\n",
    "\n",
    "correlation_matrix = combined_df[weather_variables].corr()\n",
    "\n",
    "plt.figure(figsize=(8, 6))\n",
    "sns.heatmap(correlation_matrix, annot=True, cmap='coolwarm', vmin=-1, vmax=1)\n",
    "plt.title('Korelasi Kecepatan Angin dengan Indikator Cuaca Lainnya')\n",
    "plt.show()\n",
    "\n"
   ]
  },
  {
   "cell_type": "markdown",
   "id": "446eddec-eee7-4cd7-9e13-b64408306ff7",
   "metadata": {},
   "source": [
    "Insight:\n",
    "+ Grafik menunjukkan tren tahunan rata-rata konsentrasi PM2.5 di setiap stasiun pemantauan. Beberapa lokasi memiliki penurunan konsentrasi, sementara lokasi lain menunjukkan kenaikan atau fluktuasi, menandakan variasi kualitas udara per tahun dan per lokasi.\n",
    "+ Scatterplot menunjukkan bahwa ada variasi dalam kecepatan angin tergantung pada suhu. Di beberapa lokasi, suhu yang lebih tinggi mungkin berkorelasi dengan peningkatan kecepatan angin, yang menunjukkan hubungan antara kedua variabel tersebut.\n",
    "+ Heatmap korelasi menunjukkan hubungan antara kecepatan angin (WSPM) dan variabel cuaca lain seperti suhu, tekanan, kelembapan, dan hujan. Korelasi positif atau negatif dapat membantu mengidentifikasi pola hubungan antara variabel cuaca."
   ]
  },
  {
   "cell_type": "code",
   "execution_count": null,
   "id": "86955ffa-7726-412c-a76a-b4f14e1e1be7",
   "metadata": {},
   "outputs": [],
   "source": [
    "combined_df.to_csv(\"all_data.csv\", index=False)"
   ]
  },
  {
   "cell_type": "markdown",
   "id": "ca7186d5-6110-4d4f-93ec-127ea4c95406",
   "metadata": {},
   "source": [
    "# Conclusion"
   ]
  },
  {
   "cell_type": "markdown",
   "id": "5dce7b24-9bc3-4e96-b34f-83ced0bc861c",
   "metadata": {},
   "source": [
    "+ Konsentrasi tahunan PM2.5 bervariasi di setiap stasiun pemantauan. Beberapa stasiun menunjukkan penurunan seiring waktu, sementara lainnya masih memiliki fluktuasi yang tinggi. Hal ini menunjukkan perbedaan kualitas udara antar lokasi dan adanya tren polusi yang bisa dikendalikan atau meningkat.\n",
    "+ Pola kecepatan angin harian menunjukkan fluktuasi signifikan antar musim atau hari. Angin mungkin berperan dalam menyebarkan polusi atau memengaruhi distribusi polutan seperti PM2.5.\n",
    "+ Hubungan antara kecepatan angin dan suhu bervariasi. Di beberapa lokasi, suhu yang lebih tinggi dikaitkan dengan peningkatan kecepatan angin, yang berpotensi memengaruhi penyebaran polusi atau penurunan kualitas udara.\n",
    "+ Variasi kecepatan angin berbeda-beda di setiap stasiun, yang menunjukkan pengaruh geografis atau faktor lokal terhadap angin dan distribusi polutan.\n",
    "+ Analisis korelasi menunjukkan hubungan antara kecepatan angin, suhu, tekanan udara, kelembapan, dan curah hujan. Faktor-faktor ini bekerja secara bersamaan mempengaruhi kualitas udara di setiap stasiun."
   ]
  },
  {
   "cell_type": "code",
   "execution_count": null,
   "id": "f799e3f9-9723-4daf-819a-8dfe5cb817b8",
   "metadata": {},
   "outputs": [],
   "source": []
  }
 ],
 "metadata": {
  "kernelspec": {
   "display_name": "Python 3 (ipykernel)",
   "language": "python",
   "name": "python3"
  },
  "language_info": {
   "codemirror_mode": {
    "name": "ipython",
    "version": 3
   },
   "file_extension": ".py",
   "mimetype": "text/x-python",
   "name": "python",
   "nbconvert_exporter": "python",
   "pygments_lexer": "ipython3",
   "version": "3.12.6"
  }
 },
 "nbformat": 4,
 "nbformat_minor": 5
}
